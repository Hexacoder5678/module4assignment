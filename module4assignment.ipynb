{
  "nbformat": 4,
  "nbformat_minor": 0,
  "metadata": {
    "colab": {
      "provenance": []
    },
    "kernelspec": {
      "name": "python3",
      "display_name": "Python 3"
    },
    "language_info": {
      "name": "python"
    }
  },
  "cells": [
    {
      "cell_type": "code",
      "execution_count": null,
      "metadata": {
        "id": "WEs4ebVKvBuY"
      },
      "outputs": [],
      "source": []
    },
    {
      "cell_type": "markdown",
      "source": [
        "QUES1->List out the features of HTML5?<br>\n",
        "ANS=><br>\n",
        ".new elements ,attributes and behaviours,support for multimedia ,better error.<br>\n",
        ".new tags like articles,aside,figure<br>\n",
        ".enhanced forms with new inputs types<br>\n",
        ".built in audio and video support with canvas and audio.<br>"
      ],
      "metadata": {
        "id": "1o0RwC4nvHuo"
      }
    },
    {
      "cell_type": "markdown",
      "source": [
        "QUES2->What are HTML Entities? List out 5 commonly used HTML entities.<br>\n",
        "ANS=><br>\n",
        ".special codes to display reserves charachters<br>\n",
        ".help display symbols thst have special meanings in html<br>\n",
        ".ensure charcters are renderd correctly<br>\n",
        ".prevent html codes from breaking.<br>**SOME HTML ENTITIES:**<BR>. &amp; for &<br>\n",
        ". &lt; for <<br>\n",
        ". &gt; for ><br>\n",
        ". &quot; for \"<br>\n",
        ". &apos; for '<br>"
      ],
      "metadata": {
        "id": "KMlUkBMBwUjB"
      }
    },
    {
      "cell_type": "markdown",
      "source": [
        "QUES4->Define accessibility in the context of web development. Discuss why it's essential to create accessible\n",
        "websites and how it benefits different user group?<BR>\n",
        "ANS=><BR>\n",
        ".making web content usable for everyone<br>.includes people with disabilities<br>.ensure equal access to information<br>.enhances equal experience<br>.part of web development best practices.<BR>\n",
        "<u>**WHY IT IS ESSENTIAL</u>?**<BR>\n",
        "\n",
        "\n",
        "1.   legalcomplicance\n",
        "2.   inclusivity annd social responsibilty.\n",
        "\n",
        "\n",
        "3.   expands audience reach\n",
        "4.   use aria(accesisble rich internet applicatons).<br>\n",
        "<u><b>BENEFITS:</b></U><BR>\n",
        "\n",
        "\n",
        "*   use semantic  html tags<br>\n",
        "*   provide alt text for images<br>\n",
        "*improves seo\n",
        "\n",
        "\n",
        "\n",
        "\n",
        "\n",
        "\n",
        "\n"
      ],
      "metadata": {
        "id": "wZEZyMdxycyh"
      }
    },
    {
      "cell_type": "code",
      "source": [],
      "metadata": {
        "id": "RHbT1iFdzIE2"
      },
      "execution_count": null,
      "outputs": []
    },
    {
      "cell_type": "markdown",
      "source": [
        "QUES4->List any 3 ways which help us in improving the accessibility of HTM1?<BR>\n",
        "ANS=><br>\n",
        "*use se mantic html tags<br>\n",
        "*befits all users,not just those aith disabilities<br>\n",
        "*ensure keyborad navigability,<br>"
      ],
      "metadata": {
        "id": "Xm0Ty3bM0pIR"
      }
    },
    {
      "cell_type": "markdown",
      "source": [
        "QUES5->Create a web page that highlights the features of HTML5. Use appropriate semantic tags to structure the\n",
        "content and showcase at least three key features of HTML5 with explanations?<BR>\n",
        "ANS=><br>\n"
      ],
      "metadata": {
        "id": "gGM04c2i1qlW"
      }
    },
    {
      "cell_type": "code",
      "source": [
        "<!DOCTYPE html>\n",
        "<html lang=\"en\">\n",
        "<head>\n",
        "    <meta charset=\"UTF-8\">\n",
        "    <meta name=\"viewport\" content=\"width=device-width, initial-scale=1.0\">\n",
        "    <title>Document</title>\n",
        "    <style>\n",
        "        body{\n",
        "            background-color:grey;\n",
        "            margin:0;\n",
        "            padding:0;\n",
        "            font-family:Arial, Helvetica, sans-serif;\n",
        "            line-height:1.6;\n",
        "        }\n",
        "        header,footer{\n",
        "            background-color:black;\n",
        "            color:white;\n",
        "            padding:1rem;\n",
        "            text-align:center;\n",
        "        }\n",
        "        main{\n",
        "            padding:1rem;\n",
        "        }\n",
        "        section{\n",
        "            margin-bottom:2rem;\n",
        "            background:white;\n",
        "            padding:1rem;\n",
        "            border-radius:8px;\n",
        "            box-shadow:olivedrab;\n",
        "        }\n",
        "        h2{\n",
        "            color:black;\n",
        "        }\n",
        "    </style>\n",
        "</head>\n",
        "<body>\n",
        "    <header>\n",
        "        <h1>welcome to html5</h1>\n",
        "    <p>discover the power of web development</p>\n",
        "    </header>\n",
        "    <main>\n",
        "        <article>\n",
        "            <section>\n",
        "                <h2>1.SEMANTIC ELEMENTS</h2>\n",
        "                <p>html5 introduces new tags like<code>&lt;header&gt;</code>,<code>&lt;footer&gt;</code>and<code>&lt;section&gt;</code>to provide better structure and meaning to web pages.</p>\n",
        "            </section>\n",
        "            <section>\n",
        "                <h2>2.AUDIO AND VIDEO SUPPORT</h2>\n",
        "                <p>html5 made easy to embed multimedia content directly in the browser without plugins.use of <code>&lt;audio&gt;</code>and<code>&lt;video&gt;</code>tags to add multimedia.</p>\n",
        "                <video  controls width=\"50%\" muted autoplay>\n",
        "                   <source src=\"https://www.youtube.com/watch?v=1vQh3V2cLPk\"  type=\"video/mp4\">\n",
        "                   your browser is my browser\n",
        "                </video>\n",
        "            </section>\n",
        "            <section>\n",
        "               <h2>3.CANVAS ELEMENT</h2>\n",
        "               <p>the <code>&lt;canvas</code> tag allows developers to draw graphics,aniamtions and ga,es using javascript.it's apowerful for creting cudtom visual elements.</p>\n",
        "\n",
        "            </section>\n",
        "        </article>\n",
        "    </main>\n",
        "    <footer>\n",
        "       <p>&copy;20205 html demo page</p>\n",
        "    </footer>\n",
        "</body>\n",
        "</html>"
      ],
      "metadata": {
        "id": "WYmMlor91856"
      },
      "execution_count": null,
      "outputs": []
    },
    {
      "cell_type": "markdown",
      "source": [
        "QUES 6->Create a simple web page which has a table. The table must have 2 columns HTML and HTML5. The table\n",
        "should include a minimum of three rows describing the differences between HTML and HTML5?<br>ANS=><br>\n"
      ],
      "metadata": {
        "id": "JsPL4z67MFAe"
      }
    },
    {
      "cell_type": "code",
      "source": [
        "<!DOCTYPE html>\n",
        "<html lang=\"en\">\n",
        "<head>\n",
        "    <meta charset=\"UTF-8\">\n",
        "    <meta name=\"viewport\" content=\"width=<device-width>, initial-scale=1.0\">\n",
        "    <title>Document</title>\n",
        "</head>\n",
        "<body>\n",
        "    <table border=\"2\" cellspacing=\"0\" cellpadding=\"5\" style=\"background-color:grey;\">\n",
        "        <th>HTML</th>\n",
        "        <th>HTML5</th>\n",
        "        <tr>\n",
        "            <td>1.limited semantic elements</td>\n",
        "            <td>1.new semantics tags like <code>&lt;header&gt;</code>,<code>&lt;footer&gt;</code>and <code>&lt;section&gt;</code>.</header></td>\n",
        "        </tr>\n",
        "        <tr>\n",
        "            <td>2.requires plugins (flash,quicktime)</td>\n",
        "            <td>2.native support like audio,video.no plugind required.</td>\n",
        "        </tr>\n",
        "        <tr>\n",
        "            <td>3.long and complex</td>\n",
        "            <td>3.simple and easy</td>\n",
        "        </tr>\n",
        "    </table>\n",
        "</body>\n",
        "</html>"
      ],
      "metadata": {
        "id": "aB3a2HCWPJ2J"
      },
      "execution_count": null,
      "outputs": []
    }
  ]
}